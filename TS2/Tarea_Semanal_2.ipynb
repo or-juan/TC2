{
 "cells": [
  {
   "cell_type": "markdown",
   "metadata": {},
   "source": [
    "# <img src=\"./logo_UTN.svg\" align=\"right\" width=\"150\" /> \n",
    "\n",
    "#### Teoría de Circuitos II\n",
    "\n",
    "# Tarea Semanal 2\n",
    "\n",
    "Autor: Lopez Cruz Juan Carlos\n"
   ]
  },
  {
   "cell_type": "markdown",
   "metadata": {},
   "source": [
    "# Introducción\n",
    "\n",
    "Para esta tarea se nos pide analizar el siguiente circuito:\n",
    "\n",
    "<img src=\"./circuito_ts2.png\" /> \n",
    "\n",
    "## Items a tratar del circuito:\n",
    "\n",
    "1. Hallar la transferencia $H(s) = \\frac{V_o}{V_i}$ en funcion de $\\omega_0$ y Q\n",
    "\n",
    "2. Hallar los parametros de $\\omega_0$, Q y K\n",
    "\n",
    "3. Cómo podría obtener un circuito pasabanda con los mismos componentes originales y con qué parámetros quedaría diseñado (Ver ejemplo 4.6 en Schaumann , pag. 159).\n",
    "\n",
    "## Resolucion:\n",
    "\n",
    "### Calculo de la transferencia H(s) y obtencion de los parametros $\\omega_0$, Q y K \n",
    "\n",
    "Primero empezaremos a calcular la funcion transferencia de nuestro circuito, para posteriormente generalizar la funcion con los parametros $\\omega_0$, Q y K"
   ]
  },
  {
   "cell_type": "code",
   "execution_count": 4,
   "metadata": {},
   "outputs": [
    {
     "data": {
      "text/html": [
       "\n",
       "        <iframe\n",
       "            width=\"1100\"\n",
       "            height=\"1000\"\n",
       "            src=\"./transf_ts2.pdf\"\n",
       "            frameborder=\"0\"\n",
       "            allowfullscreen\n",
       "            \n",
       "        ></iframe>\n",
       "        "
      ],
      "text/plain": [
       "<IPython.lib.display.IFrame at 0x1b72fb6f050>"
      ]
     },
     "execution_count": 4,
     "metadata": {},
     "output_type": "execute_result"
    }
   ],
   "source": [
    "from IPython.display import IFrame\n",
    "IFrame(\"./transf_ts2.pdf\", width=1100, height=1000)"
   ]
  },
  {
   "cell_type": "markdown",
   "metadata": {},
   "source": [
    "### Obtencion de un circuito pasa banda\n",
    "\n",
    "Ahora veremos la forma de obtener un circuito que sea del tipo pasa banda usando los mismos componentes, antes de comenzar el desarrollo vamos a definir que:\n",
    "\n",
    "* $V_0 = V_L$ = Low pass (pasa bajo)\n",
    "\n",
    "* $V_H$ = High pass (pasa alto)\n",
    "\n",
    "* $V_B$ = Band pass (pasa banda)\n",
    "\n",
    "Ya con esto definido empezamos nuestro desarrollo."
   ]
  },
  {
   "cell_type": "code",
   "execution_count": 6,
   "metadata": {},
   "outputs": [
    {
     "data": {
      "text/html": [
       "\n",
       "        <iframe\n",
       "            width=\"1000\"\n",
       "            height=\"1000\"\n",
       "            src=\"./analisis_pasa_banda.pdf\"\n",
       "            frameborder=\"0\"\n",
       "            allowfullscreen\n",
       "            \n",
       "        ></iframe>\n",
       "        "
      ],
      "text/plain": [
       "<IPython.lib.display.IFrame at 0x1b730c93a40>"
      ]
     },
     "execution_count": 6,
     "metadata": {},
     "output_type": "execute_result"
    }
   ],
   "source": [
    "from IPython.display import IFrame\n",
    "IFrame(\"./analisis_pasa_banda.pdf\", width=1000, height=1000)"
   ]
  },
  {
   "cell_type": "markdown",
   "metadata": {},
   "source": [
    "Como se puede obesarvar del analisis efectudao si quiero obtener una transferencia del tipo pasa banda con el mismo circuito, solo hace falta salir por la terminal $V_B$, ahora procederemos a calcular la transferencia pasa banda: $H_B(s) = \\frac{V_B}{V_I}$"
   ]
  },
  {
   "cell_type": "code",
   "execution_count": 12,
   "metadata": {},
   "outputs": [
    {
     "data": {
      "text/html": [
       "\n",
       "        <iframe\n",
       "            width=\"1100\"\n",
       "            height=\"1000\"\n",
       "            src=\"./transferencia_pasa_banda.pdf\"\n",
       "            frameborder=\"0\"\n",
       "            allowfullscreen\n",
       "            \n",
       "        ></iframe>\n",
       "        "
      ],
      "text/plain": [
       "<IPython.lib.display.IFrame at 0x1b72f4b9670>"
      ]
     },
     "execution_count": 12,
     "metadata": {},
     "output_type": "execute_result"
    }
   ],
   "source": [
    "from IPython.display import IFrame\n",
    "IFrame(\"./transferencia_pasa_banda.pdf\", width=1100, height=1000)"
   ]
  },
  {
   "cell_type": "markdown",
   "metadata": {},
   "source": [
    "Ya con el analisis efectuado podemos apreciar que la transferecia queda como:\n",
    "\n",
    "\\begin{equation}\n",
    "H_B(s) = -k \\frac{s\\frac{\\omega_0}{Q}}{s^2 + s\\frac{\\omega_0}{Q} + \\omega_0^2} \n",
    "\\end{equation}\n",
    "\n",
    "con $K = \\frac{R2}{R1}$, $\\frac{\\omega_0}{Q} = \\frac{1}{R2C}$ y $\\omega_0^2 = \\frac{1}{R3^2C^2}$"
   ]
  }
 ],
 "metadata": {
  "kernelspec": {
   "display_name": "Python [conda env:base] *",
   "language": "python",
   "name": "conda-base-py"
  },
  "language_info": {
   "codemirror_mode": {
    "name": "ipython",
    "version": 3
   },
   "file_extension": ".py",
   "mimetype": "text/x-python",
   "name": "python",
   "nbconvert_exporter": "python",
   "pygments_lexer": "ipython3",
   "version": "3.12.7"
  }
 },
 "nbformat": 4,
 "nbformat_minor": 4
}
